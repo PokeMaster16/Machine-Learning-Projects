{
  "cells": [
    {
      "cell_type": "markdown",
      "metadata": {
        "id": "view-in-github",
        "colab_type": "text"
      },
      "source": [
        "<a href=\"https://colab.research.google.com/github/PokeMaster16/Machine-Learning-Projects/blob/main/fcc_predict_health_costs_with_regression.ipynb\" target=\"_parent\"><img src=\"https://colab.research.google.com/assets/colab-badge.svg\" alt=\"Open In Colab\"/></a>"
      ]
    },
    {
      "cell_type": "code",
      "execution_count": null,
      "metadata": {
        "id": "1rRo8oNqZ-Rj"
      },
      "outputs": [],
      "source": [
        "# Import libraries. You may or may not use all of these.\n",
        "!pip install -q git+https://github.com/tensorflow/docs\n",
        "import matplotlib.pyplot as plt\n",
        "import numpy as np\n",
        "import pandas as pd\n",
        "\n",
        "try:\n",
        "  # %tensorflow_version only exists in Colab.\n",
        "  %tensorflow_version 2.x\n",
        "except Exception:\n",
        "  pass\n",
        "import tensorflow as tf\n",
        "\n",
        "from tensorflow import keras\n",
        "from tensorflow.keras import layers\n",
        "\n",
        "import tensorflow_docs as tfdocs\n",
        "import tensorflow_docs.plots\n",
        "import tensorflow_docs.modeling"
      ]
    },
    {
      "cell_type": "code",
      "execution_count": null,
      "metadata": {
        "id": "CiX2FI4gZtTt"
      },
      "outputs": [],
      "source": [
        "# Import data\n",
        "!wget https://cdn.freecodecamp.org/project-data/health-costs/insurance.csv\n",
        "dataset = pd.read_csv('insurance.csv')\n",
        "dataset.tail()\n",
        "\n",
        "print(dataset.columns)\n",
        "print(dataset.tail)"
      ]
    },
    {
      "cell_type": "code",
      "execution_count": null,
      "metadata": {
        "id": "LcopvQh3X-kX"
      },
      "outputs": [],
      "source": [
        "train_dataset, test_dataset, train_labels, test_labels = train_test_split(X, y, test_size=0.2, random_state=42)\n",
        "\n",
        "# Normalize features\n",
        "scaler = StandardScaler()\n",
        "train_dataset_scaled = scaler.fit_transform(train_dataset)\n",
        "test_dataset_scaled = scaler.transform(test_dataset)\n",
        "\n",
        "# Log-transform labels (ensure they are 1D)\n",
        "train_labels_log = np.log(train_labels.to_numpy()).reshape(-1,)\n",
        "test_labels_log = np.log(test_labels.to_numpy()).reshape(-1,)\n",
        "\n",
        "# Build the model\n",
        "model = keras.Sequential([\n",
        "    layers.Dense(128, activation='relu', input_shape=[train_dataset.shape[1]]),\n",
        "    layers.Dense(64, activation='relu'),\n",
        "    layers.Dense(32, activation='relu'),\n",
        "    layers.Dense(1)\n",
        "])\n",
        "\n",
        "model.compile(optimizer='adam', loss='mse', metrics=['mae', 'mse'])\n",
        "\n",
        "# Early stopping callback to avoid overfitting\n",
        "early_stop = keras.callbacks.EarlyStopping(monitor='val_loss', patience=10)\n",
        "\n",
        "# Train the model using log-transformed labels\n",
        "history = model.fit(\n",
        "    train_dataset_scaled, train_labels_log,\n",
        "    validation_split=0.2,\n",
        "    epochs=300,\n",
        "    callbacks=[early_stop],\n",
        "    verbose=1\n",
        ")\n",
        "\n",
        "# Evaluate the model\n",
        "loss, mae, mse = model.evaluate(test_dataset_scaled, test_labels_log)\n",
        "print(f\"MAE (log-transformed scale): {mae}\")\n",
        "\n",
        "# Predict on the test set (ensure predictions are 1D)\n",
        "predictions_log = model.predict(test_dataset_scaled).flatten()  # Flatten to 1D\n",
        "\n",
        "# Reverse log transformation\n",
        "predictions = np.exp(predictions_log)  # Predictions in the original scale\n",
        "test_labels_exp = np.exp(test_labels_log)  # Test labels in the original scale\n",
        "\n",
        "# Calculate MAE on the original scale\n",
        "mae_original_scale = np.mean(np.abs(predictions - test_labels_exp))\n",
        "print(f\"MAE (original scale): {mae_original_scale}\")\n",
        "\n",
        "# Check if MAE is under 3500\n",
        "if mae_original_scale < 3500:\n",
        "    print(f\"Model MAE is under 3500: {mae_original_scale}\")\n",
        "else:\n",
        "    print(f\"Model MAE is above 3500: {mae_original_scale}\")"
      ]
    },
    {
      "cell_type": "code",
      "execution_count": null,
      "metadata": {
        "id": "Xe7RXH3N3CWU"
      },
      "outputs": [],
      "source": [
        "# RUN THIS CELL TO TEST YOUR MODEL. DO NOT MODIFY CONTENTS.\n",
        "# Test model by checking how well the model generalizes using the test set.\n",
        "loss, mae, mse = model.evaluate(test_dataset, test_labels, verbose=2)\n",
        "\n",
        "print(\"Testing set Mean Abs Error: {:5.2f} expenses\".format(mae))\n",
        "\n",
        "if mae < 3500:\n",
        "  print(\"You passed the challenge. Great job!\")\n",
        "else:\n",
        "  print(\"The Mean Abs Error must be less than 3500. Keep trying.\")\n",
        "\n",
        "# Plot predictions.\n",
        "test_predictions = model.predict(test_dataset).flatten()\n",
        "\n",
        "a = plt.axes(aspect='equal')\n",
        "plt.scatter(test_labels, test_predictions)\n",
        "plt.xlabel('True values (expenses)')\n",
        "plt.ylabel('Predictions (expenses)')\n",
        "lims = [0, 50000]\n",
        "plt.xlim(lims)\n",
        "plt.ylim(lims)\n",
        "_ = plt.plot(lims,lims)\n"
      ]
    }
  ],
  "metadata": {
    "colab": {
      "name": "fcc_predict_health_costs_with_regression.ipynb",
      "private_outputs": true,
      "provenance": [],
      "toc_visible": true,
      "include_colab_link": true
    },
    "kernelspec": {
      "display_name": "Python 3",
      "name": "python3"
    }
  },
  "nbformat": 4,
  "nbformat_minor": 0
}