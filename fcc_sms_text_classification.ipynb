{
  "cells": [
    {
      "cell_type": "markdown",
      "metadata": {
        "id": "view-in-github",
        "colab_type": "text"
      },
      "source": [
        "<a href=\"https://colab.research.google.com/github/PokeMaster16/Machine-Learning-Projects/blob/main/fcc_sms_text_classification.ipynb\" target=\"_parent\"><img src=\"https://colab.research.google.com/assets/colab-badge.svg\" alt=\"Open In Colab\"/></a>"
      ]
    },
    {
      "cell_type": "code",
      "execution_count": null,
      "metadata": {
        "id": "8RZOuS9LWQvv"
      },
      "outputs": [],
      "source": [
        "# import libraries\n",
        "try:\n",
        "  # %tensorflow_version only exists in Colab.\n",
        "  !pip install tf-nightly\n",
        "except Exception:\n",
        "  pass\n",
        "#import tensorflow as tf\n",
        "import pandas as pd\n",
        "#from tensorflow import keras\n",
        "!pip install tensorflow-datasets\n",
        "#import tensorflow_datasets as tfds\n",
        "import numpy as np\n",
        "import matplotlib.pyplot as plt\n",
        "\n",
        "#print(tf.__version__)"
      ]
    },
    {
      "cell_type": "code",
      "execution_count": null,
      "metadata": {
        "id": "lMHwYXHXCar3"
      },
      "outputs": [],
      "source": [
        "# get data files\n",
        "!wget https://cdn.freecodecamp.org/project-data/sms/train-data.tsv\n",
        "!wget https://cdn.freecodecamp.org/project-data/sms/valid-data.tsv\n",
        "\n",
        "train_file_path = \"train-data.tsv\"\n",
        "test_file_path = \"valid-data.tsv\""
      ]
    },
    {
      "cell_type": "code",
      "execution_count": null,
      "metadata": {
        "id": "g_h508FEClxO"
      },
      "outputs": [],
      "source": [
        "# --- Load and preprocess ---\n",
        "train_df = pd.read_csv(train_file_path, sep='\\t', header=None, names=[\"label\", \"message\"])\n",
        "test_df = pd.read_csv(test_file_path, sep='\\t', header=None, names=[\"label\", \"message\"])\n",
        "\n",
        "# Convert string labels to integers\n",
        "label_map = {'ham': 0, 'spam': 1}\n",
        "train_df['label'] = train_df['label'].map(label_map)\n",
        "test_df['label'] = test_df['label'].map(label_map)\n",
        "\n",
        "# --- Features and labels ---\n",
        "X_train = train_df['message']\n",
        "y_train = train_df['label']\n",
        "X_test = test_df['message']\n",
        "y_test = test_df['label']\n",
        "\n",
        "# --- TF-IDF ---\n",
        "vectorizer = TfidfVectorizer(stop_words='english')\n",
        "X_train_tfidf = vectorizer.fit_transform(X_train)\n",
        "X_test_tfidf = vectorizer.transform(X_test)\n",
        "\n",
        "# --- Train model ---\n",
        "model = LogisticRegression(class_weight='balanced')\n",
        "model.fit(X_train_tfidf, y_train)\n",
        "\n",
        "# --- Classifier function ---\n",
        "def classify_message(message):\n",
        "    msg_tfidf = vectorizer.transform([message])\n",
        "    proba = model.predict_proba(msg_tfidf)[0]\n",
        "    prediction = int(model.predict(msg_tfidf)[0])  # Now it's an integer (0 or 1)\n",
        "    label = \"Spam\" if prediction == 1 else \"Ham\"\n",
        "    confidence = proba[prediction]\n",
        "    return f\"{label} (Confidence: {confidence:.2f})\"\n",
        "\n",
        "# --- Try it ---\n",
        "print(classify_message(\"Congratulations! You've won a free ticket. Call now!\"))\n",
        "print(classify_message(\"Hi, can we meet at 5 pm?\"))\n"
      ]
    },
    {
      "cell_type": "code",
      "execution_count": null,
      "metadata": {
        "id": "zOMKywn4zReN"
      },
      "outputs": [],
      "source": [
        "def classify_message(message):\n",
        "    msg_tfidf = vectorizer.transform([message])\n",
        "    proba = model.predict_proba(msg_tfidf)[0]\n",
        "    prediction = int(model.predict(msg_tfidf)[0])  # Make sure it's an integer\n",
        "    label = \"Spam\" if prediction == 1 else \"Ham\"\n",
        "    confidence = proba[prediction]  # Now safe\n",
        "    return f\"{label} (Confidence: {confidence:.2f})\"\n",
        "\n",
        "# Test\n",
        "print(classify_message(\"Congratulations! You've won a free ticket. Call now!\"))\n",
        "print(classify_message(\"Hi, can we meet at 5 pm?\"))\n"
      ]
    },
    {
      "cell_type": "code",
      "execution_count": null,
      "metadata": {
        "id": "J9tD9yACG6M9"
      },
      "outputs": [],
      "source": [
        "def predict_message(pred_text):\n",
        "    # Transform the message\n",
        "    msg_tfidf = vectorizer.transform([pred_text])\n",
        "\n",
        "    # Get probability of being spam (class 1)\n",
        "    spam_prob = model.predict_proba(msg_tfidf)[0][1]  # Index 1 = probability of class 'spam'\n",
        "\n",
        "    # Choose label based on threshold\n",
        "    label = 'spam' if spam_prob >= 0.5 else 'ham'\n",
        "\n",
        "    # Return result in required format\n",
        "    return [spam_prob, label]\n",
        "\n",
        "# Example usage\n",
        "pred_text = \"how are you doing today?\"\n",
        "prediction = predict_message(pred_text)\n",
        "print(prediction)\n"
      ]
    },
    {
      "cell_type": "code",
      "execution_count": null,
      "metadata": {
        "id": "Dxotov85SjsC"
      },
      "outputs": [],
      "source": [
        "# Run this cell to test your function and model. Do not modify contents.\n",
        "def test_predictions():\n",
        "  test_messages = [\"how are you doing today\",\n",
        "                   \"sale today! to stop texts call 98912460324\",\n",
        "                   \"i dont want to go. can we try it a different day? available sat\",\n",
        "                   \"our new mobile video service is live. just install on your phone to start watching.\",\n",
        "                   \"you have won £1000 cash! call to claim your prize.\",\n",
        "                   \"i'll bring it tomorrow. don't forget the milk.\",\n",
        "                   \"wow, is your arm alright. that happened to me one time too\"\n",
        "                  ]\n",
        "\n",
        "  test_answers = [\"ham\", \"spam\", \"ham\", \"spam\", \"spam\", \"ham\", \"ham\"]\n",
        "  passed = True\n",
        "\n",
        "  for msg, ans in zip(test_messages, test_answers):\n",
        "    prediction = predict_message(msg)\n",
        "    if prediction[1] != ans:\n",
        "      passed = False\n",
        "\n",
        "  if passed:\n",
        "    print(\"You passed the challenge. Great job!\")\n",
        "  else:\n",
        "    print(\"You haven't passed yet. Keep trying.\")\n",
        "\n",
        "test_predictions()\n"
      ]
    }
  ],
  "metadata": {
    "colab": {
      "name": "fcc_sms_text_classification.ipynb",
      "private_outputs": true,
      "provenance": [],
      "toc_visible": true,
      "include_colab_link": true
    },
    "kernelspec": {
      "display_name": "Python 3",
      "name": "python3"
    },
    "language_info": {}
  },
  "nbformat": 4,
  "nbformat_minor": 0
}